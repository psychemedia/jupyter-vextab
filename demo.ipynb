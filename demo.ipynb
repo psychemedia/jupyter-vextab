{
 "cells": [
  {
   "cell_type": "code",
   "execution_count": 1,
   "metadata": {
    "scrolled": true
   },
   "outputs": [
    {
     "data": {
      "text/html": [
       "<script type=\"text/javascript\">    require.config(\n",
       "        {paths: {vextabjs: require.toUrl(\"nbextensions/jupyter-vextab/vextab-div.js\")},\n",
       "         shim: {vextabjs: {exports: 'VEXTABJS'}}}\n",
       "    );</script>"
      ],
      "text/plain": [
       "<IPython.core.display.HTML object>"
      ]
     },
     "metadata": {},
     "output_type": "display_data"
    }
   ],
   "source": [
    "%reload_ext jupyter_vextab"
   ]
  },
  {
   "cell_type": "code",
   "execution_count": 3,
   "metadata": {},
   "outputs": [
    {
     "data": {
      "application/javascript": [
       "require([\"vextabjs\"], function(VEXTABJS) {   element.prepend(\"<div class='vex-tabdiv'>options space=20\\n\\ntabstave\\n  notation=true\\n  key=A time=4/4\\n\\n  notes :q =|: (5/2.5/3.7/4) :8 7-5h6/3 ^3^ 5h6-7/5 ^3^ :q 7V/4 |\\n  notes :8 t12p7/4 s5s3/4 :8 3s:16:5-7/5 :h p5/4\\n  text :w, |#segno, ,|, :hd, , #tr\\n\\n\\noptions space=25\\n\\ntabstave\\n  notation=true\\n\\n  notes :q (5/4.5/5) (7/4.7/5)s(5/4.5/5) ^3^\\n  notes :8 7-5/4 $.a./b.$ (5/4.5/5)h(7/5) =:|\\n  notes :8 (12/5.12/4)ds(5/5.5/4)u 3b4/5\\n  notes :h (5V/6.5/4.6/3.7/2) $.italic.let ring$ =|=\\n\\n  text :h, ,.font=Times-12-italic, D.S. al coda, |#coda\\n  text :h, ,.-1, .font=Arial-14-bold,A13\\n  text ++, .23, #f\\n</div>\");});"
      ],
      "text/plain": [
       "<IPython.core.display.Javascript object>"
      ]
     },
     "execution_count": 3,
     "metadata": {},
     "output_type": "execute_result"
    }
   ],
   "source": [
    "%%vextab\n",
    "options space=20\n",
    "\n",
    "tabstave\n",
    "  notation=true\n",
    "  key=A time=4/4\n",
    "\n",
    "  notes :q =|: (5/2.5/3.7/4) :8 7-5h6/3 ^3^ 5h6-7/5 ^3^ :q 7V/4 |\n",
    "  notes :8 t12p7/4 s5s3/4 :8 3s:16:5-7/5 :h p5/4\n",
    "  text :w, |#segno, ,|, :hd, , #tr\n",
    "\n",
    "\n",
    "options space=25\n",
    "\n",
    "tabstave\n",
    "  notation=true\n",
    "\n",
    "  notes :q (5/4.5/5) (7/4.7/5)s(5/4.5/5) ^3^\n",
    "  notes :8 7-5/4 $.a./b.$ (5/4.5/5)h(7/5) =:|\n",
    "  notes :8 (12/5.12/4)ds(5/5.5/4)u 3b4/5\n",
    "  notes :h (5V/6.5/4.6/3.7/2) $.italic.let ring$ =|=\n",
    "\n",
    "  text :h, ,.font=Times-12-italic, D.S. al coda, |#coda\n",
    "  text :h, ,.-1, .font=Arial-14-bold,A13\n",
    "  text ++, .23, #f"
   ]
  },
  {
   "cell_type": "code",
   "execution_count": 1,
   "metadata": {},
   "outputs": [
    {
     "data": {
      "text/html": [
       "<script type=\"text/javascript\">    require.config(\n",
       "        {paths: {abcjs: require.toUrl(\"nbextensions/jupyter-abc/abcjs_basic_5.1.2-min.js\")},\n",
       "         shim: {abcjs: {exports: 'ABCJS'}}}\n",
       "    );</script>"
      ],
      "text/plain": [
       "<IPython.core.display.HTML object>"
      ]
     },
     "metadata": {},
     "output_type": "display_data"
    }
   ],
   "source": [
    "%load_ext jupyter_abc"
   ]
  },
  {
   "cell_type": "code",
   "execution_count": 5,
   "metadata": {},
   "outputs": [
    {
     "data": {
      "application/javascript": [
       "require([\"vextabjs\"], function(VEXTABJS) {   element.prepend(\"<div class='vex-tabdiv'>options space=20\\n\\ntabstave\\n  notation=true\\n  key=A time=4/4\\n\\n  notes :q =|: (5/2.5/3.7/4) :8 7-5h6/3 ^3^ 5h6-7/5 ^3^ :q 7V/4 |\\n  notes :8 t12p7/4 s5s3/4 :8 3s:16:5-7/5 :h p5/4\\n  text :w, |#segno, ,|, :hd, , #tr\\n\\n\\noptions space=25\\n\\ntabstave\\n  notation=true\\n\\n  notes :q (5/4.5/5) (7/4.7/5)s(5/4.5/5) ^3^\\n  notes :8 7-5/4 $.a./b.$ (5/4.5/5)h(7/5) =:|\\n  notes :8 (12/5.12/4)ds(5/5.5/4)u 3b4/5\\n  notes :h (5V/6.5/4.6/3.7/2) $.italic.let ring$ =|=\\n\\n  text :h, ,.font=Times-12-italic, D.S. al coda, |#coda\\n  text :h, ,.-1, .font=Arial-14-bold,A13\\n  text ++, .23, #f\\n</div>\");});"
      ],
      "text/plain": [
       "<IPython.core.display.Javascript object>"
      ]
     },
     "execution_count": 5,
     "metadata": {},
     "output_type": "execute_result"
    }
   ],
   "source": [
    "%%vextab\n",
    "options space=20\n",
    "\n",
    "tabstave\n",
    "  notation=true\n",
    "  key=A time=4/4\n",
    "\n",
    "  notes :q =|: (5/2.5/3.7/4) :8 7-5h6/3 ^3^ 5h6-7/5 ^3^ :q 7V/4 |\n",
    "  notes :8 t12p7/4 s5s3/4 :8 3s:16:5-7/5 :h p5/4\n",
    "  text :w, |#segno, ,|, :hd, , #tr\n",
    "\n",
    "\n",
    "options space=25\n",
    "\n",
    "tabstave\n",
    "  notation=true\n",
    "\n",
    "  notes :q (5/4.5/5) (7/4.7/5)s(5/4.5/5) ^3^\n",
    "  notes :8 7-5/4 $.a./b.$ (5/4.5/5)h(7/5) =:|\n",
    "  notes :8 (12/5.12/4)ds(5/5.5/4)u 3b4/5\n",
    "  notes :h (5V/6.5/4.6/3.7/2) $.italic.let ring$ =|=\n",
    "\n",
    "  text :h, ,.font=Times-12-italic, D.S. al coda, |#coda\n",
    "  text :h, ,.-1, .font=Arial-14-bold,A13\n",
    "  text ++, .23, #f"
   ]
  },
  {
   "cell_type": "code",
   "execution_count": null,
   "metadata": {},
   "outputs": [],
   "source": []
  }
 ],
 "metadata": {
  "kernelspec": {
   "display_name": "Python 3",
   "language": "python",
   "name": "python3"
  },
  "language_info": {
   "codemirror_mode": {
    "name": "ipython",
    "version": 3
   },
   "file_extension": ".py",
   "mimetype": "text/x-python",
   "name": "python",
   "nbconvert_exporter": "python",
   "pygments_lexer": "ipython3",
   "version": "3.7.5"
  }
 },
 "nbformat": 4,
 "nbformat_minor": 2
}
